{
 "cells": [
  {
   "cell_type": "code",
   "execution_count": 28,
   "id": "16aad716",
   "metadata": {},
   "outputs": [
    {
     "name": "stdout",
     "output_type": "stream",
     "text": [
      "Class distribution of oversampled training data:\n",
      "target\n",
      "0    1000\n",
      "1    1000\n",
      "2    1000\n",
      "3    1000\n",
      "Name: count, dtype: int64\n"
     ]
    }
   ],
   "source": [
    "import pandas as pd\n",
    "import numpy as np\n",
    "from imblearn.over_sampling import SMOTE\n",
    "\n",
    "# Load the compiled dataset\n",
    "compiled = pd.read_csv('compiled.csv', index_col=0)\n",
    "\n",
    "# Separate features and target variable\n",
    "X = compiled.drop('target', axis=1)\n",
    "y = compiled['target']\n",
    "\n",
    "# Define the number of entries to keep for testing and training\n",
    "test_size_per_class = 4\n",
    "train_size_per_class = 8\n",
    "\n",
    "# Initialize lists to store test and train indices\n",
    "test_indices = []\n",
    "train_indices = []\n",
    "\n",
    "# Iterate over each class\n",
    "for class_label in np.unique(y):\n",
    "    class_indices = np.where(y == class_label)[0]\n",
    "    test_indices.extend(class_indices[:test_size_per_class])\n",
    "    train_indices.extend(class_indices[-train_size_per_class:])\n",
    "\n",
    "# Split the dataset into test and train using indices\n",
    "X_test = X.iloc[test_indices]\n",
    "y_test = y.iloc[test_indices]\n",
    "X_train = X.iloc[train_indices]\n",
    "y_train = y.iloc[train_indices]\n",
    "\n",
    "# Apply SMOTE to the training data only\n",
    "smote = SMOTE(sampling_strategy={0: 1000, 1: 1000, 2: 1000, 3: 1000})\n",
    "X_train_resampled, y_train_resampled = smote.fit_resample(X_train, y_train)\n",
    "\n",
    "# Save oversampled data\n",
    "oversampled_data_train = pd.concat([pd.DataFrame(X_train_resampled), pd.DataFrame(y_train_resampled)], axis=1)\n",
    "oversampled_data_train.to_csv('oversampled_train.csv')\n",
    "\n",
    "# Check class distribution\n",
    "print(\"Class distribution of oversampled training data:\")\n",
    "print(oversampled_data_train['target'].value_counts())\n"
   ]
  },
  {
   "cell_type": "code",
   "execution_count": 32,
   "id": "40a2ebe4",
   "metadata": {},
   "outputs": [
    {
     "name": "stdout",
     "output_type": "stream",
     "text": [
      "Class distribution of oversampled test data:\n",
      "target\n",
      "0    300\n",
      "1    300\n",
      "2    300\n",
      "3    300\n",
      "Name: count, dtype: int64\n"
     ]
    }
   ],
   "source": [
    "# Apply SMOTE to the test data\n",
    "smote = SMOTE(sampling_strategy={0: 300, 1: 300, 2: 300, 3: 300}, k_neighbors=3)\n",
    "X_test_resampled, y_test_resampled = smote.fit_resample(X_test, y_test)\n",
    "\n",
    "# Save oversampled test data\n",
    "oversampled_data_test = pd.concat([pd.DataFrame(X_test_resampled), pd.DataFrame(y_test_resampled)], axis=1)\n",
    "oversampled_data_test.to_csv('oversampled_test.csv', index=False)\n",
    "\n",
    "# Check class distribution\n",
    "print(\"Class distribution of oversampled test data:\")\n",
    "print(oversampled_data_test['target'].value_counts())\n"
   ]
  }
 ],
 "metadata": {
  "kernelspec": {
   "display_name": "Python 3 (ipykernel)",
   "language": "python",
   "name": "python3"
  },
  "language_info": {
   "codemirror_mode": {
    "name": "ipython",
    "version": 3
   },
   "file_extension": ".py",
   "mimetype": "text/x-python",
   "name": "python",
   "nbconvert_exporter": "python",
   "pygments_lexer": "ipython3",
   "version": "3.9.7"
  }
 },
 "nbformat": 4,
 "nbformat_minor": 5
}
