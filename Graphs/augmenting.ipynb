{
 "cells": [
  {
   "cell_type": "code",
   "execution_count": 2,
   "metadata": {},
   "outputs": [],
   "source": [
    "import numpy as np\n",
    "import pandas as pd\n",
    "from imblearn.over_sampling import SMOTE\n",
    "from sklearn.model_selection import train_test_split\n",
    "from sklearn.ensemble import RandomForestClassifier\n",
    "from sklearn.metrics import accuracy_score, classification_report"
   ]
  },
  {
   "cell_type": "code",
   "execution_count": 1,
   "metadata": {},
   "outputs": [
    {
     "ename": "NameError",
     "evalue": "name 'pd' is not defined",
     "output_type": "error",
     "traceback": [
      "\u001b[1;31m---------------------------------------------------------------------------\u001b[0m",
      "\u001b[1;31mNameError\u001b[0m                                 Traceback (most recent call last)",
      "\u001b[1;32mc:\\Users\\adity\\OneDrive\\Desktop\\VIT\\Internships\\Horn\\augmenting.ipynb Cell 2\u001b[0m line \u001b[0;36m2\n\u001b[0;32m      <a href='vscode-notebook-cell:/c%3A/Users/adity/OneDrive/Desktop/VIT/Internships/Horn/augmenting.ipynb#W1sZmlsZQ%3D%3D?line=0'>1</a>\u001b[0m \u001b[39m# Load datasets\u001b[39;00m\n\u001b[1;32m----> <a href='vscode-notebook-cell:/c%3A/Users/adity/OneDrive/Desktop/VIT/Internships/Horn/augmenting.ipynb#W1sZmlsZQ%3D%3D?line=1'>2</a>\u001b[0m centermass_data \u001b[39m=\u001b[39m pd\u001b[39m.\u001b[39mread_csv(\u001b[39m'\u001b[39m\u001b[39mcentermassdamage.csv\u001b[39m\u001b[39m'\u001b[39m)\n\u001b[0;32m      <a href='vscode-notebook-cell:/c%3A/Users/adity/OneDrive/Desktop/VIT/Internships/Horn/augmenting.ipynb#W1sZmlsZQ%3D%3D?line=2'>3</a>\u001b[0m diaphragm_data \u001b[39m=\u001b[39m pd\u001b[39m.\u001b[39mread_csv(\u001b[39m'\u001b[39m\u001b[39mdiaphragmdamage.csv\u001b[39m\u001b[39m'\u001b[39m)\n\u001b[0;32m      <a href='vscode-notebook-cell:/c%3A/Users/adity/OneDrive/Desktop/VIT/Internships/Horn/augmenting.ipynb#W1sZmlsZQ%3D%3D?line=3'>4</a>\u001b[0m goodhorn_data \u001b[39m=\u001b[39m pd\u001b[39m.\u001b[39mread_csv(\u001b[39m'\u001b[39m\u001b[39mgoodhorn.csv\u001b[39m\u001b[39m'\u001b[39m)\n",
      "\u001b[1;31mNameError\u001b[0m: name 'pd' is not defined"
     ]
    }
   ],
   "source": [
    "# Load datasets\n",
    "centermass_data = pd.read_csv('centermassdamage.csv')\n",
    "diaphragm_data = pd.read_csv('diaphragmdamage.csv')\n",
    "goodhorn_data = pd.read_csv('goodhorn.csv')\n",
    "resonator_data = pd.read_csv('resonatordamage.csv')\n",
    "\n",
    "# Data augmentation function for amplitude recordings\n",
    "def augment_amplitudes(data, num_augmentations=10, noise_factor=0.01):\n",
    "    augmented_data = data.copy()\n",
    "\n",
    "    for i in range(num_augmentations):\n",
    "\n",
    "\n",
    "        # Amplitude Scaling\n",
    "        scale_factor = np.random.uniform(0.9, 1.1)\n",
    "        columns_to_augment = data.columns[1:-1]  # Exclude the time and last column\n",
    "        for col in columns_to_augment:\n",
    "            augmented_data[col + f'_aug_{i}'] = augmented_data[col] * scale_factor\n",
    "\n",
    "\n",
    "        # Noise Injection\n",
    "        noise = np.random.normal(0, noise_factor, size=len(data))\n",
    "        augmented_data[f'Noise_{i}'] = noise\n",
    "\n",
    "    return augmented_data\n",
    "\n",
    "\n",
    "\n",
    "\n",
    "# Applying to each dataset\n",
    "\n",
    "num_augmentations = 10\n",
    "noise_factor = 0.01\n",
    "\n",
    "centermass_amplitude_augmented = augment_amplitudes(centermass_data, num_augmentations, noise_factor)\n",
    "diaphragm_amplitude_augmented = augment_amplitudes(diaphragm_data, num_augmentations, noise_factor)\n",
    "goodhorn_amplitude_augmented = augment_amplitudes(goodhorn_data, num_augmentations, noise_factor)\n",
    "resonator_amplitude_augmented = augment_amplitudes(resonator_data, num_augmentations, noise_factor)\n",
    "\n",
    "\n",
    "\n",
    "# Saving augmented datasets to CSV files\n",
    "\n",
    "centermass_amplitude_augmented.to_csv('centermass_amplitude_augmented.csv', index=False)\n",
    "diaphragm_amplitude_augmented.to_csv('diaphragm_amplitude_augmented.csv', index=False)\n",
    "goodhorn_amplitude_augmented.to_csv('goodhorn_amplitude_augmented.csv', index=False)\n",
    "resonator_amplitude_augmented.to_csv('resonator_amplitude_augmented.csv', index=False)"
   ]
  }
 ],
 "metadata": {
  "kernelspec": {
   "display_name": "Python 3",
   "language": "python",
   "name": "python3"
  },
  "language_info": {
   "codemirror_mode": {
    "name": "ipython",
    "version": 3
   },
   "file_extension": ".py",
   "mimetype": "text/x-python",
   "name": "python",
   "nbconvert_exporter": "python",
   "pygments_lexer": "ipython3",
   "version": "3.9.7"
  },
  "orig_nbformat": 4
 },
 "nbformat": 4,
 "nbformat_minor": 2
}
